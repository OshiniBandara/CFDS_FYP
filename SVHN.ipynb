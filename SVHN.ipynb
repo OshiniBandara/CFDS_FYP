{
 "cells": [
  {
   "cell_type": "code",
   "execution_count": 1,
   "metadata": {},
   "outputs": [
    {
     "name": "stderr",
     "output_type": "stream",
     "text": [
      "/Users/oshinibandara/opt/anaconda3/envs/python_3.9/lib/python3.9/site-packages/tqdm/auto.py:22: TqdmWarning: IProgress not found. Please update jupyter and ipywidgets. See https://ipywidgets.readthedocs.io/en/stable/user_install.html\n",
      "  from .autonotebook import tqdm as notebook_tqdm\n"
     ]
    }
   ],
   "source": [
    "#%matplotlib inline\n",
    "\n",
    "import torch\n",
    "import torch.nn as nn\n",
    "import torch.nn.functional as F\n",
    "import torch.optim as optim\n",
    "\n",
    "import torchvision\n",
    "import torchvision.transforms as transforms\n",
    "\n",
    "import matplotlib\n",
    "import matplotlib.pyplot as plt\n",
    "import numpy as np"
   ]
  },
  {
   "cell_type": "code",
   "execution_count": 2,
   "metadata": {},
   "outputs": [
    {
     "name": "stdout",
     "output_type": "stream",
     "text": [
      "Using downloaded and verified file: ./data/train_32x32.mat\n",
      "Using downloaded and verified file: ./data/test_32x32.mat\n",
      "73257\n",
      "36628\n",
      "36629\n",
      "26032\n"
     ]
    }
   ],
   "source": [
    "transform1 = transforms.Compose(\n",
    "    [transforms.ToTensor(),\n",
    "     transforms.Normalize((0.5, 0.5, 0.5), (0.5, 0.5, 0.5))])\n",
    "\n",
    "trainset = torchvision.datasets.SVHN(root='./data', split = 'train',\n",
    "                                        download=True, transform=transform1)\n",
    "trainloader= torch.utils.data.DataLoader(trainset, batch_size=4,\n",
    "                                          shuffle=True, num_workers=2)\n",
    "train_size1 = int(0.5 * len(trainset))\n",
    "train_size2 = len(trainset)-int(0.5 * len(trainset))\n",
    "trainset1, trainset2 = torch.utils.data.random_split(trainset, [train_size1, train_size2])\n",
    "\n",
    "trainloader1= torch.utils.data.DataLoader(trainset1, batch_size=4,\n",
    "                                          shuffle=True, num_workers=2)\n",
    "trainloader2 = torch.utils.data.DataLoader(trainset2, batch_size=4,\n",
    "                                          shuffle=True, num_workers=2)\n",
    "\n",
    "testset = torchvision.datasets.SVHN(root='./data', split='test',\n",
    "                                       download=True, transform=transform1)\n",
    "testloader = torch.utils.data.DataLoader(testset, batch_size=4,\n",
    "                                         shuffle=False, num_workers=2)\n",
    "print(len(trainset))\n",
    "print(len(trainset1))\n",
    "print(len(trainset2))\n",
    "print(len(testset))\n",
    "\n",
    "\n",
    "classes = ('1','2','3','4','5','6','7','8','9','0')\n"
   ]
  },
  {
   "cell_type": "code",
   "execution_count": 3,
   "metadata": {},
   "outputs": [],
   "source": [
    "class Net(nn.Module):\n",
    "    def __init__(self):\n",
    "        super(Net, self).__init__()\n",
    "        self.conv1 = nn.Conv2d(3, 6, 5)\n",
    "        self.pool = nn.MaxPool2d(2, 2)\n",
    "        self.conv2 = nn.Conv2d(6, 16, 5)\n",
    "        self.fc1 = nn.Linear(16 * 5 * 5, 120)\n",
    "        self.fc2 = nn.Linear(120, 84)\n",
    "        self.fc3 = nn.Linear(84, len(classes))\n",
    "\n",
    "    def forward(self, x):\n",
    "        x = self.pool(F.relu(self.conv1(x)))\n",
    "        x = self.pool(F.relu(self.conv2(x)))\n",
    "        x = x.view(-1, 16 * 5 * 5)\n",
    "        x = F.relu(self.fc1(x))\n",
    "        x = F.relu(self.fc2(x))\n",
    "        x = self.fc3(x)\n",
    "        return x\n",
    "\n",
    "\n",
    "net = Net()"
   ]
  },
  {
   "cell_type": "code",
   "execution_count": 4,
   "metadata": {},
   "outputs": [],
   "source": [
    "criterion = nn.CrossEntropyLoss()\n",
    "optimizer = optim.SGD(net.parameters(), lr=0.001, momentum=0.9)"
   ]
  },
  {
   "cell_type": "code",
   "execution_count": 5,
   "metadata": {},
   "outputs": [
    {
     "name": "stdout",
     "output_type": "stream",
     "text": [
      "[1,  2000] loss: 2.247\n",
      "[1,  4000] loss: 2.225\n",
      "[1,  6000] loss: 2.050\n",
      "[1,  8000] loss: 1.242\n",
      "[2,  2000] loss: 0.683\n",
      "[2,  4000] loss: 0.618\n",
      "[2,  6000] loss: 0.568\n",
      "[2,  8000] loss: 0.565\n",
      "Finished Training train set 1\n"
     ]
    }
   ],
   "source": [
    "for epoch in range(2):  # loop over the dataset multiple times\n",
    "\n",
    "    running_loss = 0.0\n",
    "    for i, data in enumerate(trainloader1, 0):\n",
    "        # get the inputs\n",
    "        inputs, labels = data\n",
    "\n",
    "        # zero the parameter gradients\n",
    "        optimizer.zero_grad()\n",
    "\n",
    "        # forward + backward + optimize\n",
    "        outputs = net(inputs)\n",
    "        loss = criterion(outputs, labels)\n",
    "        loss.backward()\n",
    "        optimizer.step()\n",
    "\n",
    "        # print statistics\n",
    "        running_loss += loss.item()\n",
    "        if i % 2000 == 1999:    # print every 2000 mini-batches\n",
    "            print('[%d, %5d] loss: %.3f' %\n",
    "                  (epoch + 1, i + 1, running_loss / 2000))\n",
    "            running_loss = 0.0\n",
    "\n",
    "print('Finished Training train set 1')"
   ]
  },
  {
   "cell_type": "code",
   "execution_count": 6,
   "metadata": {},
   "outputs": [
    {
     "name": "stdout",
     "output_type": "stream",
     "text": [
      "Accuracy of the network on the 26032 test images: 82.48 \n"
     ]
    }
   ],
   "source": [
    "correct = 0\n",
    "total = 0\n",
    "with torch.no_grad():\n",
    "    for data in testloader:\n",
    "        images, labels = data\n",
    "        outputs = net(images)\n",
    "        _, predicted = torch.max(outputs.data, 1)\n",
    "        total += labels.size(0)\n",
    "        correct += (predicted == labels).sum().item()\n",
    "accuracy1= float(correct)/float(total)*100\n",
    "print('Accuracy of the network on the 26032 test images: %.2f ' % accuracy1)"
   ]
  },
  {
   "cell_type": "code",
   "execution_count": 7,
   "metadata": {},
   "outputs": [
    {
     "name": "stdout",
     "output_type": "stream",
     "text": [
      "[1, 1, 1, 1, 0, 1, 1, 1, 1, 1, 1, 0, 1, 1, 1, 1, 1, 1, 1, 1]\n",
      "Accuracy for class: 1     is 73.1 %\n",
      "Accuracy for class: 2     is 92.6 %\n",
      "Accuracy for class: 3     is 85.9 %\n",
      "Accuracy for class: 4     is 78.0 %\n",
      "Accuracy for class: 5     is 81.0 %\n",
      "Accuracy for class: 6     is 85.9 %\n",
      "Accuracy for class: 7     is 68.1 %\n",
      "Accuracy for class: 8     is 85.9 %\n",
      "Accuracy for class: 9     is 74.0 %\n",
      "Accuracy for class: 0     is 79.2 %\n"
     ]
    }
   ],
   "source": [
    "# prepare to count predictions for each class\n",
    "correct_pred = {classname: 0 for classname in classes}\n",
    "total_pred = {classname: 0 for classname in classes}\n",
    "correct_indicator = [0 for i in range(len(testset))]\n",
    "i = 0\n",
    "# again no gradients needed\n",
    "with torch.no_grad():\n",
    "    for data in testloader:\n",
    "        images, labels = data\n",
    "        outputs = net(images)\n",
    "        _, predictions = torch.max(outputs, 1)\n",
    "        # collect the correct predictions for each class\n",
    "        for label, prediction in zip(labels, predictions):\n",
    "            \n",
    "            if label == prediction:\n",
    "                correct_pred[classes[label]] += 1\n",
    "                correct_indicator[i] = 1\n",
    "            total_pred[classes[label]] += 1\n",
    "            i += 1\n",
    "\n",
    "# 1 - 1, 2 - 1, 3 - 1, 4-0, 5-0, 6-0 - 60\n",
    "# 2, 3, 4, 5 - 80\n",
    "print(correct_indicator[0:20])\n",
    "\n",
    "# print accuracy for each class\n",
    "for classname, correct_count in correct_pred.items():\n",
    "    accuracy = 100 * float(correct_count) / total_pred[classname]\n",
    "    print(f'Accuracy for class: {classname:5s} is {accuracy:.1f} %')"
   ]
  },
  {
   "cell_type": "code",
   "execution_count": 8,
   "metadata": {},
   "outputs": [
    {
     "name": "stdout",
     "output_type": "stream",
     "text": [
      "[1,  2000] loss: 0.535\n",
      "[1,  4000] loss: 0.496\n",
      "[1,  6000] loss: 0.486\n",
      "[1,  8000] loss: 0.461\n",
      "[2,  2000] loss: 0.412\n",
      "[2,  4000] loss: 0.408\n",
      "[2,  6000] loss: 0.414\n",
      "[2,  8000] loss: 0.388\n",
      "Finished Training train set 2\n"
     ]
    }
   ],
   "source": [
    "for epoch in range(2):  # loop over the dataset multiple times\n",
    "\n",
    "    running_loss = 0.0\n",
    "    for i, data in enumerate(trainloader2, 0):\n",
    "        # get the inputs\n",
    "        inputs, labels = data\n",
    "\n",
    "        # zero the parameter gradients\n",
    "        optimizer.zero_grad()\n",
    "\n",
    "        # forward + backward + optimize\n",
    "        outputs = net(inputs)\n",
    "        loss = criterion(outputs, labels)\n",
    "        loss.backward()\n",
    "        optimizer.step()\n",
    "\n",
    "        # print statistics\n",
    "        running_loss += loss.item()\n",
    "        if i % 2000 == 1999:    # print every 2000 mini-batches\n",
    "            print('[%d, %5d] loss: %.3f' %\n",
    "                  (epoch + 1, i + 1, running_loss / 2000))\n",
    "            running_loss = 0.0\n",
    "\n",
    "print('Finished Training train set 2')"
   ]
  },
  {
   "cell_type": "code",
   "execution_count": 9,
   "metadata": {},
   "outputs": [
    {
     "name": "stdout",
     "output_type": "stream",
     "text": [
      "Accuracy of the network on the 26032 test images: 85.28 \n"
     ]
    }
   ],
   "source": [
    "correct = 0\n",
    "total = 0\n",
    "with torch.no_grad():\n",
    "    for data in testloader:\n",
    "        images, labels = data\n",
    "        outputs = net(images)\n",
    "        _, predicted = torch.max(outputs.data, 1)\n",
    "        total += labels.size(0)\n",
    "        correct += (predicted == labels).sum().item()\n",
    "accuracy2= float(correct)/float(total)*100\n",
    "\n",
    "\n",
    "print('Accuracy of the network on the 26032 test images: %.2f ' % accuracy2)"
   ]
  },
  {
   "cell_type": "code",
   "execution_count": 10,
   "metadata": {},
   "outputs": [
    {
     "name": "stdout",
     "output_type": "stream",
     "text": [
      "[1, 1, 1, 1, 1, 1, 1, 1, 1, 1, 0, 1, 1, 1, 1, 1, 1, 1, 1, 1]\n",
      "Accuracy for class: 1     is 81.9 %\n",
      "Accuracy for class: 2     is 92.7 %\n",
      "Accuracy for class: 3     is 89.4 %\n",
      "Accuracy for class: 4     is 68.6 %\n",
      "Accuracy for class: 5     is 88.0 %\n",
      "Accuracy for class: 6     is 85.3 %\n",
      "Accuracy for class: 7     is 85.1 %\n",
      "Accuracy for class: 8     is 87.7 %\n",
      "Accuracy for class: 9     is 76.4 %\n",
      "Accuracy for class: 0     is 86.8 %\n"
     ]
    }
   ],
   "source": [
    "# prepare to count predictions for each class\n",
    "correct_pred = {classname: 0 for classname in classes}\n",
    "total_pred = {classname: 0 for classname in classes}\n",
    "correct_indicator = [0 for i in range(len(testset))]\n",
    "i = 0\n",
    "# again no gradients needed\n",
    "with torch.no_grad():\n",
    "    for data in testloader:\n",
    "        images, labels = data\n",
    "        outputs = net(images)\n",
    "        _, predictions = torch.max(outputs, 1)\n",
    "        # collect the correct predictions for each class\n",
    "        for label, prediction in zip(labels, predictions):\n",
    "            \n",
    "            if label == prediction:\n",
    "                correct_pred[classes[label]] += 1\n",
    "                correct_indicator[i] = 1\n",
    "            total_pred[classes[label]] += 1\n",
    "            i += 1\n",
    "\n",
    "# 1 - 1, 2 - 1, 3 - 1, 4-0, 5-0, 6-0 - 60\n",
    "# 2, 3, 4, 5 - 80\n",
    "print(correct_indicator[0:20])\n",
    "\n",
    "# print accuracy for each class\n",
    "for classname, correct_count in correct_pred.items():\n",
    "    accuracy = 100 * float(correct_count) / total_pred[classname]\n",
    "    print(f'Accuracy for class: {classname:5s} is {accuracy:.1f} %')"
   ]
  },
  {
   "cell_type": "code",
   "execution_count": 11,
   "metadata": {},
   "outputs": [
    {
     "name": "stdout",
     "output_type": "stream",
     "text": [
      "forgetting percentage of the network is: -2.804241 %\n"
     ]
    }
   ],
   "source": [
    "forgetfullness = (accuracy1-accuracy2)\n",
    "print('forgetting percentage of the network is: %f %%' % forgetfullness)"
   ]
  }
 ],
 "metadata": {
  "kernelspec": {
   "display_name": "python_3.9",
   "language": "python",
   "name": "python3"
  },
  "language_info": {
   "codemirror_mode": {
    "name": "ipython",
    "version": 3
   },
   "file_extension": ".py",
   "mimetype": "text/x-python",
   "name": "python",
   "nbconvert_exporter": "python",
   "pygments_lexer": "ipython3",
   "version": "3.9.0"
  },
  "orig_nbformat": 4,
  "vscode": {
   "interpreter": {
    "hash": "9fd15bfa8077af54ccb28583b3bc865b661547b4b7191116fa462526dd289d7f"
   }
  }
 },
 "nbformat": 4,
 "nbformat_minor": 2
}
